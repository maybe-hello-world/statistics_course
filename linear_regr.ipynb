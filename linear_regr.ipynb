{
 "cells": [
  {
   "cell_type": "code",
   "execution_count": 1,
   "metadata": {
    "pycharm": {
     "is_executing": false
    }
   },
   "outputs": [],
   "source": [
    "import pandas as pd\n",
    "import numpy as np"
   ]
  },
  {
   "cell_type": "markdown",
   "metadata": {},
   "source": [
    "# Линейная регрессия\n",
    "\n",
    "Линейная регрессия позволяет установить зависимость между факторами и зависимой переменной. Значение зависимой переменной будет выражаться следующим образом: $y = f(x_1, x_2, \\dots, x_n) + \\epsilon$, где $\\epsilon$ - остаток, не зависящий от факторов.\n",
    "\n",
    "Простая линейная регрессия выглядит следующим образом: $y_i = \\beta_0 + \\beta_1 x_i + \\epsilon_i$. Мы также предполагаем, что матожидание остатков равно 0, а дисперсия постоянна и нет корреляции между остатками для различных элементов выборки (т.е. остатки не описываются неким неучтенным нами фактором). \n",
    "\n",
    "Для нахождения параметров $\\beta_0$ и $\\beta_1$ используется метод наимньших квадратов, в котором необходимо минимизировать следующее выражение: $\\sum(y_i - \\beta_0 - \\beta_1 x_i)^2 \\rightarrow min$. Для его минимизации найдем частные производные по всем переменным и составим систему уравнений, из которой получим следующие формулы для вычисления параметров:\n",
    "$$\\hat{\\beta}_1 = \\frac{\\sum(y_i x_i - \\bar{y}\\bar{x})}{\\sum(x^2_i - \\bar{x}^2)}$$\n",
    "$$\\hat{\\beta}_0 = \\bar{y} - \\hat{\\beta}_1x$$\n",
    "\n",
    "Также вычисляется RSS (сумма квадратов остатков) для оценки общей ошибки и того, насколько факторами описывается поведение зависимой переменной.\n",
    "\n",
    "#### Пример"
   ]
  },
  {
   "cell_type": "code",
   "execution_count": 2,
   "metadata": {},
   "outputs": [
    {
     "data": {
      "text/html": [
       "<div>\n",
       "<style scoped>\n",
       "    .dataframe tbody tr th:only-of-type {\n",
       "        vertical-align: middle;\n",
       "    }\n",
       "\n",
       "    .dataframe tbody tr th {\n",
       "        vertical-align: top;\n",
       "    }\n",
       "\n",
       "    .dataframe thead th {\n",
       "        text-align: right;\n",
       "    }\n",
       "</style>\n",
       "<table border=\"1\" class=\"dataframe\">\n",
       "  <thead>\n",
       "    <tr style=\"text-align: right;\">\n",
       "      <th></th>\n",
       "      <th>price</th>\n",
       "      <th>year</th>\n",
       "      <th>mileage</th>\n",
       "      <th>auto</th>\n",
       "    </tr>\n",
       "  </thead>\n",
       "  <tbody>\n",
       "    <tr>\n",
       "      <th>0</th>\n",
       "      <td>250</td>\n",
       "      <td>2010</td>\n",
       "      <td>67.0</td>\n",
       "      <td>MT</td>\n",
       "    </tr>\n",
       "    <tr>\n",
       "      <th>1</th>\n",
       "      <td>365</td>\n",
       "      <td>2013</td>\n",
       "      <td>59.0</td>\n",
       "      <td>MT</td>\n",
       "    </tr>\n",
       "    <tr>\n",
       "      <th>2</th>\n",
       "      <td>365</td>\n",
       "      <td>2013</td>\n",
       "      <td>59.0</td>\n",
       "      <td>MT</td>\n",
       "    </tr>\n",
       "    <tr>\n",
       "      <th>3</th>\n",
       "      <td>250</td>\n",
       "      <td>2009</td>\n",
       "      <td>95.0</td>\n",
       "      <td>MT</td>\n",
       "    </tr>\n",
       "    <tr>\n",
       "      <th>4</th>\n",
       "      <td>310</td>\n",
       "      <td>2011</td>\n",
       "      <td>76.5</td>\n",
       "      <td>MT</td>\n",
       "    </tr>\n",
       "  </tbody>\n",
       "</table>\n",
       "</div>"
      ],
      "text/plain": [
       "   price  year  mileage auto\n",
       "0    250  2010     67.0   MT\n",
       "1    365  2013     59.0   MT\n",
       "2    365  2013     59.0   MT\n",
       "3    250  2009     95.0   MT\n",
       "4    310  2011     76.5   MT"
      ]
     },
     "execution_count": 2,
     "metadata": {},
     "output_type": "execute_result"
    }
   ],
   "source": [
    "df = pd.read_csv('car_regr.txt', sep='\\t')\n",
    "df.head()"
   ]
  },
  {
   "cell_type": "code",
   "execution_count": 3,
   "metadata": {},
   "outputs": [],
   "source": [
    "# строим зависимость цены от года\n",
    "X = df.year.values\n",
    "Y = df.price.values\n",
    "\n",
    "mX = X.mean()\n",
    "mY = Y.mean()"
   ]
  },
  {
   "cell_type": "code",
   "execution_count": 4,
   "metadata": {},
   "outputs": [
    {
     "name": "stdout",
     "output_type": "stream",
     "text": [
      "B1 = 26.043399374849457\n",
      "B0 = -52090.26932084801\n"
     ]
    }
   ],
   "source": [
    "# вычисляем параметры\n",
    "B1 = sum(X * Y - mX*mY) / sum(X**2 - mX**2)\n",
    "print(f\"B1 = {B1}\")\n",
    "\n",
    "B0 = mY - B1 * mX\n",
    "print(f\"B0 = {B0}\")"
   ]
  },
  {
   "cell_type": "code",
   "execution_count": 5,
   "metadata": {},
   "outputs": [],
   "source": [
    "# строим саму модель\n",
    "y_hat = lambda x: B0 + B1 * x\n",
    "y_hat = np.vectorize(y_hat)"
   ]
  },
  {
   "cell_type": "code",
   "execution_count": 6,
   "metadata": {},
   "outputs": [
    {
     "name": "stdout",
     "output_type": "stream",
     "text": [
      "RSS = 132015.3192539345\n",
      "S2 = 3143.2218869984404\n",
      "0.6167004931126856\n"
     ]
    }
   ],
   "source": [
    "# вычисляем остатки\n",
    "RSS = sum((Y - y_hat(X))**2)\n",
    "print(f\"RSS = {RSS}\")\n",
    "\n",
    "# дисперсия\n",
    "S2 = RSS / (len(df) - 2)\n",
    "print(f\"S2 = {S2}\")\n",
    "\n",
    "# R^2 коэф\n",
    "R2 = RSS / sum((Y - mY)**2)\n",
    "R2 = 1 - R2\n",
    "print(R2)"
   ]
  },
  {
   "cell_type": "markdown",
   "metadata": {},
   "source": [
    "## Линейная регрессия от нескольких факторов\n",
    "\n",
    "Точное аналитическое решение выглядит следующим образом:\n",
    "$$\\beta = (A^TA)^{-1}A^TY$$, где A - матрица факторов с добавленным первым столбцом из единиц, а Y - матрица Nx1 ответов."
   ]
  },
  {
   "cell_type": "code",
   "execution_count": 7,
   "metadata": {},
   "outputs": [],
   "source": [
    "# преобразуем категориальный признак в числовой\n",
    "df['auto'] = (df[\"auto\"] == 'MT').astype(int)"
   ]
  },
  {
   "cell_type": "code",
   "execution_count": 8,
   "metadata": {},
   "outputs": [
    {
     "data": {
      "text/plain": [
       "array([250, 365, 365, 250, 310], dtype=int64)"
      ]
     },
     "execution_count": 8,
     "metadata": {},
     "output_type": "execute_result"
    }
   ],
   "source": [
    "# берем матрицу ответов\n",
    "Y = df.price.values\n",
    "Y[:5]"
   ]
  },
  {
   "cell_type": "code",
   "execution_count": 9,
   "metadata": {},
   "outputs": [
    {
     "data": {
      "text/plain": [
       "array([[1.000e+00, 2.010e+03, 6.700e+01, 1.000e+00],\n",
       "       [1.000e+00, 2.013e+03, 5.900e+01, 1.000e+00],\n",
       "       [1.000e+00, 2.013e+03, 5.900e+01, 1.000e+00],\n",
       "       [1.000e+00, 2.009e+03, 9.500e+01, 1.000e+00],\n",
       "       [1.000e+00, 2.011e+03, 7.650e+01, 1.000e+00]])"
      ]
     },
     "execution_count": 9,
     "metadata": {},
     "output_type": "execute_result"
    }
   ],
   "source": [
    "# и матрицу факторов с добавленным столбцом единиц\n",
    "X = df[['year', 'mileage', 'auto']].values\n",
    "tX = np.ones((len(df), len(df.columns)))\n",
    "tX[:, 1:] = X\n",
    "tX[:5]"
   ]
  },
  {
   "cell_type": "code",
   "execution_count": 10,
   "metadata": {},
   "outputs": [
    {
     "data": {
      "text/plain": [
       "array([-4.08225374e+04,  2.04883615e+01, -1.31397141e-01, -1.03582723e+02])"
      ]
     },
     "execution_count": 10,
     "metadata": {},
     "output_type": "execute_result"
    }
   ],
   "source": [
    "# находим аналитическое решение\n",
    "beta = np.linalg.inv((tX.transpose() @ tX)) @ tX.transpose() @ Y\n",
    "beta"
   ]
  },
  {
   "cell_type": "code",
   "execution_count": 11,
   "metadata": {},
   "outputs": [],
   "source": [
    "# строим модель\n",
    "def y_hat(params) -> float:\n",
    "    return beta[0] + beta[1] * params[0] + beta[2] * params[1] + beta[3] * params[2]"
   ]
  },
  {
   "cell_type": "code",
   "execution_count": 12,
   "metadata": {},
   "outputs": [
    {
     "name": "stdout",
     "output_type": "stream",
     "text": [
      "RSS = 87587.49036165551\n",
      "S2 = 2189.6872590413877\n",
      "0.745694347785934\n"
     ]
    }
   ],
   "source": [
    "# вычисляем остатки\n",
    "Y_hat = np.array([y_hat(x) for x in X])\n",
    "RSS = sum((Y - Y_hat)**2)\n",
    "print(f\"RSS = {RSS}\")\n",
    "\n",
    "# дисперсия\n",
    "S2 = RSS / (len(df) - X.shape[1] - 1)\n",
    "print(f\"S2 = {S2}\")\n",
    "\n",
    "# R^2 коэф\n",
    "R2 = RSS / sum((Y - mY)**2)\n",
    "R2 = 1 - R2\n",
    "print(R2)"
   ]
  }
 ],
 "metadata": {
  "kernelspec": {
   "display_name": "Python 3",
   "language": "python",
   "name": "python3"
  },
  "language_info": {
   "codemirror_mode": {
    "name": "ipython",
    "version": 3
   },
   "file_extension": ".py",
   "mimetype": "text/x-python",
   "name": "python",
   "nbconvert_exporter": "python",
   "pygments_lexer": "ipython3",
   "version": "3.7.3"
  },
  "pycharm": {
   "stem_cell": {
    "cell_type": "raw",
    "metadata": {
     "collapsed": false
    },
    "source": []
   }
  }
 },
 "nbformat": 4,
 "nbformat_minor": 1
}
